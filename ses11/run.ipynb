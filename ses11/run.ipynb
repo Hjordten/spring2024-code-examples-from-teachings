{
 "cells": [
  {
   "cell_type": "code",
   "execution_count": null,
   "metadata": {},
   "outputs": [],
   "source": []
  },
  {
   "cell_type": "code",
   "execution_count": 7,
   "metadata": {},
   "outputs": [
    {
     "name": "stdout",
     "output_type": "stream",
     "text": [
      "Requirement already satisfied: numpy in c:\\users\\andre\\documents\\vscode\\python\\spring2024-code-examples-from-teachings\\.venv\\lib\\site-packages (1.26.4)\n",
      "Note: you may need to restart the kernel to use updated packages.\n",
      "Collecting pandas\n",
      "  Downloading pandas-2.2.2-cp311-cp311-win_amd64.whl.metadata (19 kB)\n",
      "Requirement already satisfied: numpy>=1.23.2 in c:\\users\\andre\\documents\\vscode\\python\\spring2024-code-examples-from-teachings\\.venv\\lib\\site-packages (from pandas) (1.26.4)\n",
      "Requirement already satisfied: python-dateutil>=2.8.2 in c:\\users\\andre\\documents\\vscode\\python\\spring2024-code-examples-from-teachings\\.venv\\lib\\site-packages (from pandas) (2.9.0.post0)\n",
      "Collecting pytz>=2020.1 (from pandas)\n",
      "  Using cached pytz-2024.1-py2.py3-none-any.whl.metadata (22 kB)\n",
      "Collecting tzdata>=2022.7 (from pandas)\n",
      "  Using cached tzdata-2024.1-py2.py3-none-any.whl.metadata (1.4 kB)\n",
      "Requirement already satisfied: six>=1.5 in c:\\users\\andre\\documents\\vscode\\python\\spring2024-code-examples-from-teachings\\.venv\\lib\\site-packages (from python-dateutil>=2.8.2->pandas) (1.16.0)\n",
      "Downloading pandas-2.2.2-cp311-cp311-win_amd64.whl (11.6 MB)\n",
      "   ---------------------------------------- 0.0/11.6 MB ? eta -:--:--\n",
      "   - -------------------------------------- 0.4/11.6 MB 13.2 MB/s eta 0:00:01\n",
      "   --- ------------------------------------ 1.0/11.6 MB 12.2 MB/s eta 0:00:01\n",
      "   ----- ---------------------------------- 1.5/11.6 MB 12.2 MB/s eta 0:00:01\n",
      "   ------- -------------------------------- 2.1/11.6 MB 12.3 MB/s eta 0:00:01\n",
      "   --------- ------------------------------ 2.7/11.6 MB 12.3 MB/s eta 0:00:01\n",
      "   ----------- ---------------------------- 3.3/11.6 MB 12.4 MB/s eta 0:00:01\n",
      "   ------------- -------------------------- 3.8/11.6 MB 12.1 MB/s eta 0:00:01\n",
      "   --------------- ------------------------ 4.5/11.6 MB 12.5 MB/s eta 0:00:01\n",
      "   ----------------- ---------------------- 5.2/11.6 MB 12.8 MB/s eta 0:00:01\n",
      "   ------------------- -------------------- 5.8/11.6 MB 12.8 MB/s eta 0:00:01\n",
      "   ---------------------- ----------------- 6.4/11.6 MB 12.8 MB/s eta 0:00:01\n",
      "   ------------------------ --------------- 7.0/11.6 MB 12.9 MB/s eta 0:00:01\n",
      "   -------------------------- ------------- 7.7/11.6 MB 12.9 MB/s eta 0:00:01\n",
      "   ---------------------------- ----------- 8.3/11.6 MB 13.0 MB/s eta 0:00:01\n",
      "   ------------------------------ --------- 8.9/11.6 MB 12.9 MB/s eta 0:00:01\n",
      "   -------------------------------- ------- 9.5/11.6 MB 13.0 MB/s eta 0:00:01\n",
      "   ---------------------------------- ----- 10.0/11.6 MB 13.1 MB/s eta 0:00:01\n",
      "   ------------------------------------ --- 10.5/11.6 MB 12.6 MB/s eta 0:00:01\n",
      "   ------------------------------------- -- 11.0/11.6 MB 12.6 MB/s eta 0:00:01\n",
      "   ---------------------------------------  11.6/11.6 MB 12.6 MB/s eta 0:00:01\n",
      "   ---------------------------------------- 11.6/11.6 MB 12.1 MB/s eta 0:00:00\n",
      "Using cached pytz-2024.1-py2.py3-none-any.whl (505 kB)\n",
      "Using cached tzdata-2024.1-py2.py3-none-any.whl (345 kB)\n",
      "Installing collected packages: pytz, tzdata, pandas\n",
      "Successfully installed pandas-2.2.2 pytz-2024.1 tzdata-2024.1\n",
      "Note: you may need to restart the kernel to use updated packages.\n"
     ]
    }
   ],
   "source": [
    "%pip install numpy\n",
    "%pip install pandas\n",
    "%pip install mathplotlib\n"
   ]
  },
  {
   "cell_type": "code",
   "execution_count": null,
   "metadata": {},
   "outputs": [],
   "source": []
  }
 ],
 "metadata": {
  "kernelspec": {
   "display_name": ".venv",
   "language": "python",
   "name": "python3"
  },
  "language_info": {
   "codemirror_mode": {
    "name": "ipython",
    "version": 3
   },
   "file_extension": ".py",
   "mimetype": "text/x-python",
   "name": "python",
   "nbconvert_exporter": "python",
   "pygments_lexer": "ipython3",
   "version": "3.11.4"
  }
 },
 "nbformat": 4,
 "nbformat_minor": 2
}
